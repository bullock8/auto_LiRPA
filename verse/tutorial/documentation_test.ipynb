{
 "cells": [
  {
   "cell_type": "markdown",
   "metadata": {},
   "source": [
    "# Import a Map"
   ]
  },
  {
   "cell_type": "code",
   "execution_count": 1,
   "metadata": {},
   "outputs": [],
   "source": [
    "from tutorial_map import M3\n",
    "\n",
    "map1 = M3()"
   ]
  },
  {
   "cell_type": "markdown",
   "metadata": {},
   "source": [
    "# Create Agent"
   ]
  },
  {
   "cell_type": "code",
   "execution_count": 10,
   "metadata": {},
   "outputs": [],
   "source": [
    "from enum import Enum, auto\n",
    "\n",
    "class CraftMode(Enum):\n",
    "    Cruise = auto()\n",
    "    Up = auto()\n",
    "\n",
    "class TrackMode(Enum):\n",
    "    T0 = auto()\n",
    "    TAvoidUp = auto()\n"
   ]
  },
  {
   "cell_type": "code",
   "execution_count": 11,
   "metadata": {},
   "outputs": [],
   "source": [
    "class State:\n",
    "    x: float\n",
    "    y: float\n",
    "    z: float\n",
    "    vx: float\n",
    "    vy: float\n",
    "    vz: float\n",
    "    craft_mode: CraftMode\n",
    "    track_mode: TrackMode"
   ]
  },
  {
   "cell_type": "code",
   "execution_count": 12,
   "metadata": {},
   "outputs": [],
   "source": [
    "import copy\n",
    "\n",
    "def decisionLogic(ego: State, track_map):\n",
    "    next = copy.deepcopy(ego)\n",
    "\n",
    "    if ego.craft_mode == CraftMode.Cruise:\n",
    "        if ego.x > 20:\n",
    "            next.craft_mode = CraftMode.Up\n",
    "            next.track_mode = track_map.map2track(ego.track_mode, ego.craft_mode, CraftMode.Up)\n",
    "    \n",
    "    return next"
   ]
  },
  {
   "cell_type": "markdown",
   "metadata": {},
   "source": [
    "# Create a Scenario"
   ]
  },
  {
   "cell_type": "code",
   "execution_count": null,
   "metadata": {},
   "outputs": [],
   "source": [
    "from verse.scenario import Scenario\n",
    "from tutorial_agent import DroneAgent\n",
    "\n",
    "drone1 = DroneAgent(\"drone1\", file_name='dl_sec1.py')"
   ]
  },
  {
   "cell_type": "markdown",
   "metadata": {},
   "source": []
  }
 ],
 "metadata": {
  "kernelspec": {
   "display_name": "Verse",
   "language": "python",
   "name": "python3"
  },
  "language_info": {
   "codemirror_mode": {
    "name": "ipython",
    "version": 3
   },
   "file_extension": ".py",
   "mimetype": "text/x-python",
   "name": "python",
   "nbconvert_exporter": "python",
   "pygments_lexer": "ipython3",
   "version": "3.9.18"
  }
 },
 "nbformat": 4,
 "nbformat_minor": 2
}
